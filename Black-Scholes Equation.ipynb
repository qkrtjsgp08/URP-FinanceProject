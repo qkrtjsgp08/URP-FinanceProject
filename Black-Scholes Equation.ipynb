{
 "cells": [
  {
   "cell_type": "code",
   "execution_count": null,
   "metadata": {
    "collapsed": true
   },
   "outputs": [],
   "source": []
  },
  {
   "cell_type": "markdown",
   "metadata": {},
   "source": [
    "# Black-Scholes option pricing theory\n",
    "\n",
    "## Hedging and the partial differential equation\n",
    "\n",
    "The original derivation of the Black-Scholes partial differential equation was via stochastic calculus, Ito's lemma and a simple hedging argument \n",
    "\n",
    "Assume that the underlying follows a lognormal random walk\n",
    "$$\n",
    "\tdS = \\mu S dt + \\sigma S dX.\n",
    "$$\n",
    "Use $\\Pi$ to denote the value of a portfolio of one long option position and a short position in some quantity $\\Delta$ of the underlying:\n",
    "$$\n",
    "\t\\Pi = V(S,t) - \\Delta S.\n",
    "$$\n",
    "\n",
    "The first term on the right is the option and the second term is the short asset position.\n",
    "\n",
    "Ask .... $t$ to $t+dt$.\n",
    "$$\n",
    "\td\\Pi = dV - \\Delta dS\n",
    "$$\n",
    "\n",
    "From Ito's lemma we have\n",
    "$$\n",
    "d\\Pi = \\frac{\\partial V}{\\partial t}dt + \\frac{\\partial V}{\\partial S}dS +\n",
    "\\frac{1}{2} \\sigma^2 S^2 \\frac{\\partial^2 V}{\\partial S^2}dt - \\Delta dS\n",
    "$$\n",
    "\n",
    "Let  $\\Delta = \\frac{\\partial V}{\\partial S}$\n",
    "\n",
    "$$\n",
    "\td\\Pi = \\Big( \\frac{\\partial V}{\\partial t} + \\frac{1}{2} \\sigma^2 S^2 \\frac{\\partial^2 V}{\\partial S^2}\\Big)dt.\n",
    "$$   \n",
    "$$\n",
    "    d\\Pi= {r\\Pi}dt\n",
    "        = {rV-\\Delta rS}dt\n",
    "$$\n",
    "Putting all of the above together to eliminate $\\Pi$ and $\\Delta$ in favor of partial derivatives of $V$ gives\n",
    "\n",
    "$$\n",
    "    \\frac{\\partial V}{\\partial t} + \\frac{1}{2}\\sigma^2S^2 \\frac{\\partial^2 V}{\\partial S^2} + rS\\frac{\\partial V}{\\partial S} - rV = 0.\n",
    "$$\n",
    "the Black-scholes equation.\n",
    "$$\n",
    "\tV(S,T)=\\max(S-K,0)\n",
    "$$"
   ]
  },
  {
   "cell_type": "code",
   "execution_count": null,
   "metadata": {
    "collapsed": false
   },
   "outputs": [],
   "source": []
  },
  {
   "cell_type": "code",
   "execution_count": null,
   "metadata": {
    "collapsed": true
   },
   "outputs": [],
   "source": []
  }
 ],
 "metadata": {
  "kernelspec": {
   "display_name": "Python 3",
   "language": "python",
   "name": "python3"
  },
  "language_info": {
   "codemirror_mode": {
    "name": "ipython",
    "version": 3
   },
   "file_extension": ".py",
   "mimetype": "text/x-python",
   "name": "python",
   "nbconvert_exporter": "python",
   "pygments_lexer": "ipython3",
   "version": "3.6.0"
  }
 },
 "nbformat": 4,
 "nbformat_minor": 2
}
